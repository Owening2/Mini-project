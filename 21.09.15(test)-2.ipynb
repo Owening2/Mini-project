{
 "cells": [
  {
   "cell_type": "code",
   "execution_count": null,
   "source": [
    "2) \r\n",
    "다음 데이터를(자료구조는 자유선택) 저장한 후, 유클리디안 거리를 활용하여 손흥민과 가장 유사하게 평점을 준(거리가 가까운) 사람의 이름과 거리를 출력하시오. (R 또는 파이썬 모두 사용가능)\r\n",
    "critics={\r\n",
    "'BTS':{'밀정':5, '경이로운소문':4, '국제시장':1.5},\r\n",
    "'손흥민':{'밀정':4,'경이로운소문':5, '국제시장':2},\r\n",
    "'레드벨벳':{'밀정':2.5, '경이로운소문':2, '국제시장':1},\r\n",
    "'트와이스':{'밀정':3.5, '경이로운소문':4, '국제시장':5}\r\n",
    "}"
   ],
   "outputs": [],
   "metadata": {}
  },
  {
   "cell_type": "code",
   "execution_count": 1,
   "source": [
    "critics={\r\n",
    "'BTS':{'밀정':5, '경이로운소문':4, '국제시장':1.5},\r\n",
    "'손흥민':{'밀정':4,'경이로운소문':5, '국제시장':2},\r\n",
    "'레드벨벳':{'밀정':2.5, '경이로운소문':2, '국제시장':1},\r\n",
    "'트와이스':{'밀정':3.5, '경이로운소문':4, '국제시장':5}\r\n",
    "}"
   ],
   "outputs": [],
   "metadata": {}
  },
  {
   "cell_type": "code",
   "execution_count": 13,
   "source": [
    "import numpy as np\r\n",
    "import math"
   ],
   "outputs": [],
   "metadata": {}
  },
  {
   "cell_type": "code",
   "execution_count": 16,
   "source": [
    "def Euc_dis(data, name1, name2):\r\n",
    "    sum=0\r\n",
    "    for i in data[name1]:\r\n",
    "        if i in data[name2]:\r\n",
    "            sum+=pow(data[name1][i]-data[name2][i],2)\r\n",
    "    return 1/(1+math.sqrt(sum))"
   ],
   "outputs": [],
   "metadata": {}
  },
  {
   "cell_type": "code",
   "execution_count": 17,
   "source": [
    "Euc_dis(critics, 'BTS','손흥민')"
   ],
   "outputs": [
    {
     "output_type": "execute_result",
     "data": {
      "text/plain": [
       "0.4"
      ]
     },
     "metadata": {},
     "execution_count": 17
    }
   ],
   "metadata": {}
  },
  {
   "cell_type": "code",
   "execution_count": 29,
   "source": [
    "def best_match(data, name, index=1, func = Euc_dis):\r\n",
    "    li=[]\r\n",
    "    for i in data:\r\n",
    "        if name!=i:\r\n",
    "            li.append((func(data,name,i),i))\r\n",
    "    return li[:index]"
   ],
   "outputs": [],
   "metadata": {}
  },
  {
   "cell_type": "code",
   "execution_count": 30,
   "source": [
    "best_match(critics, '손흥민')"
   ],
   "outputs": [
    {
     "output_type": "execute_result",
     "data": {
      "text/plain": [
       "[(0.4, 'BTS')]"
      ]
     },
     "metadata": {},
     "execution_count": 30
    }
   ],
   "metadata": {}
  },
  {
   "cell_type": "code",
   "execution_count": null,
   "source": [],
   "outputs": [],
   "metadata": {}
  }
 ],
 "metadata": {
  "orig_nbformat": 4,
  "language_info": {
   "name": "python",
   "version": "3.8.8",
   "mimetype": "text/x-python",
   "codemirror_mode": {
    "name": "ipython",
    "version": 3
   },
   "pygments_lexer": "ipython3",
   "nbconvert_exporter": "python",
   "file_extension": ".py"
  },
  "kernelspec": {
   "name": "python3",
   "display_name": "Python 3.8.8 64-bit ('base': conda)"
  },
  "interpreter": {
   "hash": "875e0117d8ea5b779eeabe865ab4109ca4e07a1748b183c60c8bf81061fa9044"
  }
 },
 "nbformat": 4,
 "nbformat_minor": 2
}