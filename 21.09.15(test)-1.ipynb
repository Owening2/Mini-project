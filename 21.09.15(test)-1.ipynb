{
 "cells": [
  {
   "cell_type": "code",
   "execution_count": null,
   "source": [
    "1)\r\n",
    "다음 실행 예시처럼 교환할 돈을 입력받아서, 최소한의 동전의 개수로 교환해 주는 파이썬 코드를 작성하시오.(파이썬 언어로 해야함)\r\n",
    "\r\n",
    "바꿀 돈 -->7777\r\n",
    "500원: 15 , 100원: 2 , 50원: 1 , 10원 2 , 나머지: 7"
   ],
   "outputs": [],
   "metadata": {}
  },
  {
   "cell_type": "code",
   "execution_count": 1,
   "source": [
    "money, c500, c100, c50, c10,c1 = 0,0,0,0,0,0 \r\n",
    "\r\n",
    "money = int(input(\"교환이 필요한 금액 : \"))\r\n",
    "\r\n",
    "c500 = money // 500\r\n",
    "money %= 500\r\n",
    "\r\n",
    "c100 = money // 100\r\n",
    "money %= 100\r\n",
    "\r\n",
    "c50 = money // 50\r\n",
    "money %= 50\r\n",
    "\r\n",
    "c10 = money //10\r\n",
    "money %= 10\r\n",
    "\r\n",
    "c1 = money \r\n",
    "\r\n",
    "print(\"500원 : %d개\" %c500)\r\n",
    "print(\"100원 : %d개\" %c100)\r\n",
    "print(\"50원 : %d개\" %c50)\r\n",
    "print(\"10원 : %d개\" %c10)\r\n",
    "print(\"나머지 : %d\" %c1 )"
   ],
   "outputs": [
    {
     "output_type": "stream",
     "name": "stdout",
     "text": [
      "500원 : 15개\n",
      "100원 : 2개\n",
      "50원 : 1개\n",
      "10원 : 2개\n",
      "나머지 : 7\n"
     ]
    }
   ],
   "metadata": {}
  },
  {
   "cell_type": "code",
   "execution_count": null,
   "source": [],
   "outputs": [],
   "metadata": {}
  }
 ],
 "metadata": {
  "orig_nbformat": 4,
  "language_info": {
   "name": "python",
   "version": "3.8.8",
   "mimetype": "text/x-python",
   "codemirror_mode": {
    "name": "ipython",
    "version": 3
   },
   "pygments_lexer": "ipython3",
   "nbconvert_exporter": "python",
   "file_extension": ".py"
  },
  "kernelspec": {
   "name": "python3",
   "display_name": "Python 3.8.8 64-bit ('base': conda)"
  },
  "interpreter": {
   "hash": "875e0117d8ea5b779eeabe865ab4109ca4e07a1748b183c60c8bf81061fa9044"
  }
 },
 "nbformat": 4,
 "nbformat_minor": 2
}